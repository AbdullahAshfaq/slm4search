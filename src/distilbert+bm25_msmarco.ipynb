{
 "cells": [
  {
   "cell_type": "code",
   "execution_count": null,
   "metadata": {},
   "outputs": [],
   "source": []
  },
  {
   "cell_type": "markdown",
   "metadata": {},
   "source": [
    "# Train"
   ]
  },
  {
   "cell_type": "code",
   "execution_count": 1,
   "metadata": {},
   "outputs": [],
   "source": [
    "max_seq_length = 512\n",
    "model_name = \"distilbert-base-uncased\" \n",
    "dataset = \"msmarco_tiny\"\n",
    "\n",
    "dataset_path = \"../datasets/msmarco_tiny/\"\n",
    "corpus_file = \"tiny_collection.json\"\n",
    "queries_file = \"topics.dl20.txt\"\n",
    "qrels_test_file = \"qrels.dl20-passage.txt\"\n",
    "training_set = \"msmarco_triples.train.tiny.tsv\""
   ]
  },
  {
   "cell_type": "code",
   "execution_count": 2,
   "metadata": {},
   "outputs": [
    {
     "name": "stderr",
     "output_type": "stream",
     "text": [
      "/home/ab/.pyenv/versions/3.11.6/lib/python3.11/site-packages/sentence_transformers/cross_encoder/CrossEncoder.py:11: TqdmWarning: IProgress not found. Please update jupyter and ipywidgets. See https://ipywidgets.readthedocs.io/en/stable/user_install.html\n",
      "  from tqdm.autonotebook import tqdm, trange\n"
     ]
    }
   ],
   "source": [
    "\n",
    "from sentence_transformers import losses, models, SentenceTransformer\n",
    "from beir import util, LoggingHandler\n",
    "from beir.datasets.data_loader import GenericDataLoader\n",
    "from beir.retrieval.search.lexical import BM25Search as BM25\n",
    "from beir.retrieval.evaluation import EvaluateRetrieval\n",
    "from beir.retrieval.train import TrainRetriever\n",
    "import pathlib, os, tqdm\n",
    "import logging\n",
    "\n",
    "#### Just some code to print debug information to stdout\n",
    "logging.basicConfig(format='%(asctime)s - %(message)s',\n",
    "                    datefmt='%Y-%m-%d %H:%M:%S',\n",
    "                    level=logging.INFO,\n",
    "                    handlers=[LoggingHandler()])\n",
    "#### /print debug information to stdout"
   ]
  },
  {
   "cell_type": "code",
   "execution_count": 4,
   "metadata": {},
   "outputs": [],
   "source": [
    "# data_path = f\"../datasets/{dataset}\"\n",
    "# corpus, queries, qrels = GenericDataLoader(data_path).load(split=\"train\")"
   ]
  },
  {
   "cell_type": "code",
   "execution_count": 5,
   "metadata": {},
   "outputs": [],
   "source": [
    "import collections\n",
    "import pytrec_eval\n",
    "import json\n",
    "\n",
    "def load_triplets(path):\n",
    "    triplets = []\n",
    "    with open(path) as f:\n",
    "        for line in f:\n",
    "            query, positive_passage, negative_passage = line.strip().split('\\t')\n",
    "            triplets.append([query, positive_passage, negative_passage])\n",
    "    return triplets\n",
    "\n",
    "def load_corpus_json(path):\n",
    "    with open(path, 'r') as corpus_f:\n",
    "        corpus_json = json.load(corpus_f)\n",
    "    return corpus_json\n",
    "\n",
    "\n",
    "triplets_temp = load_triplets(f\"{dataset_path}{training_set}\")\n",
    "corpus = load_corpus_json(f\"{dataset_path}{corpus_file}\")"
   ]
  },
  {
   "cell_type": "code",
   "execution_count": 6,
   "metadata": {},
   "outputs": [
    {
     "name": "stdout",
     "output_type": "stream",
     "text": [
      "2024-06-02 16:06:55 - Activating Elasticsearch....\n",
      "2024-06-02 16:06:55 - Elastic Search Credentials: {'hostname': 'localhost', 'index_name': 'msmarco_tiny', 'keys': {'title': 'title', 'body': 'txt'}, 'timeout': 100, 'retry_on_timeout': True, 'maxsize': 24, 'number_of_shards': 1, 'language': 'english'}\n",
      "2024-06-02 16:06:55 - Deleting previous Elasticsearch-Index named - msmarco_tiny\n",
      "2024-06-02 16:06:58 - Creating fresh Elasticsearch-Index named - msmarco_tiny\n"
     ]
    },
    {
     "name": "stderr",
     "output_type": "stream",
     "text": [
      "  0%|          | 0/510585 [00:00<?, ?docs/s]                \n"
     ]
    }
   ],
   "source": [
    "#### Lexical Retrieval using Bm25 (Elasticsearch) ####\n",
    "\n",
    "## elasticsearch settings\n",
    "hostname = \"localhost\" #localhost\n",
    "index_name = dataset # scifact\n",
    "initialize = True # True - Delete existing index and re-index all documents from scratch \n",
    "\n",
    "number_of_shards = 1\n",
    "model = BM25(index_name=index_name, hostname=hostname, initialize=initialize, number_of_shards=number_of_shards)\n",
    "bm25 = EvaluateRetrieval(model)\n",
    "\n",
    "#### Index passages into the index (seperately)\n",
    "bm25.retriever.index(corpus)\n"
   ]
  },
  {
   "cell_type": "code",
   "execution_count": 7,
   "metadata": {},
   "outputs": [
    {
     "name": "stderr",
     "output_type": "stream",
     "text": [
      "Retrieve Hard Negatives using BM25: 100%|██████████| 11000/11000 [03:54<00:00, 46.86it/s]\n"
     ]
    }
   ],
   "source": [
    "\n",
    "triplets = []\n",
    "hard_negatives_max = 10\n",
    "\n",
    "#### Retrieve BM25 hard negatives => Given a positive document, find most similar lexical documents\n",
    "for query_text, pos_doc_text, neg_doc_text in tqdm.tqdm(triplets_temp, desc=\"Retrieve Hard Negatives using BM25\"):\n",
    "    hits = bm25.retriever.es.lexical_multisearch(texts=[pos_doc_text], top_hits=hard_negatives_max+1)\n",
    "    for (neg_id, _) in hits[0].get(\"hits\"):\n",
    "        if corpus[neg_id][\"text\"] != neg_doc_text:\n",
    "            neg_text = corpus[neg_id][\"text\"]\n",
    "            triplets.append([query_text, pos_doc_text, neg_text])\n"
   ]
  },
  {
   "cell_type": "code",
   "execution_count": 8,
   "metadata": {},
   "outputs": [],
   "source": [
    "import pickle\n",
    "\n",
    "with open(f\"{dataset_path}{dataset}bm25_triplets.pickle\", 'wb') as f:\n",
    "            pickle.dump(triplets, f, protocol=pickle.HIGHEST_PROTOCOL)"
   ]
  },
  {
   "cell_type": "code",
   "execution_count": 9,
   "metadata": {},
   "outputs": [],
   "source": [
    "import pickle\n",
    "\n",
    "with open(f\"{dataset_path}{dataset}bm25_triplets.pickle\", 'rb') as f:\n",
    "    triplets = pickle.load(f)"
   ]
  },
  {
   "cell_type": "code",
   "execution_count": 10,
   "metadata": {},
   "outputs": [
    {
     "data": {
      "text/plain": [
       "['is a little caffeine ok during pregnancy',\n",
       " 'We donâ\\x80\\x99t know a lot about the effects of caffeine during pregnancy on you and your baby. So itâ\\x80\\x99s best to limit the amount you get each day. If youâ\\x80\\x99re pregnant, limit caffeine to 200 milligrams each day. This is about the amount in 1Â½ 8-ounce cups of coffee or one 12-ounce cup of coffee.',\n",
       " 'It is generally safe for pregnant women to eat chocolate because studies have shown to prove certain benefits of eating chocolate during pregnancy. However, pregnant women should ensure their caffeine intake is below 200 mg per day.']"
      ]
     },
     "execution_count": 10,
     "metadata": {},
     "output_type": "execute_result"
    }
   ],
   "source": [
    "triplets_temp[0]"
   ]
  },
  {
   "cell_type": "code",
   "execution_count": 11,
   "metadata": {},
   "outputs": [
    {
     "data": {
      "text/plain": [
       "['is a little caffeine ok during pregnancy',\n",
       " 'We donâ\\x80\\x99t know a lot about the effects of caffeine during pregnancy on you and your baby. So itâ\\x80\\x99s best to limit the amount you get each day. If youâ\\x80\\x99re pregnant, limit caffeine to 200 milligrams each day. This is about the amount in 1Â½ 8-ounce cups of coffee or one 12-ounce cup of coffee.',\n",
       " 'Should I limit caffeine during pregnancy? If youâ\\x80\\x99re pregnant, you should limit the amount of caffeine you have to 200 milligrams (mg) a day â\\x80\\x93 the equivalent of two mugs of instant coffee. Caffeine is found naturally in lots of foods, such as coffee, tea and chocolate.']"
      ]
     },
     "execution_count": 11,
     "metadata": {},
     "output_type": "execute_result"
    }
   ],
   "source": [
    "triplets[0]"
   ]
  },
  {
   "cell_type": "code",
   "execution_count": 12,
   "metadata": {},
   "outputs": [
    {
     "data": {
      "text/plain": [
       "['is a little caffeine ok during pregnancy',\n",
       " 'We donâ\\x80\\x99t know a lot about the effects of caffeine during pregnancy on you and your baby. So itâ\\x80\\x99s best to limit the amount you get each day. If youâ\\x80\\x99re pregnant, limit caffeine to 200 milligrams each day. This is about the amount in 1Â½ 8-ounce cups of coffee or one 12-ounce cup of coffee.',\n",
       " 'Limit the amount of caffeine you get each day to 200 mg during pregnancy. Drinks and foods with caffeine incldue coffee, tea, energy drinks, soft drinks and chocolate. Limit the amount of caffeine you get each day to 200 mg during pregnancy.']"
      ]
     },
     "execution_count": 12,
     "metadata": {},
     "output_type": "execute_result"
    }
   ],
   "source": [
    "triplets[1]"
   ]
  },
  {
   "cell_type": "code",
   "execution_count": 25,
   "metadata": {},
   "outputs": [
    {
     "name": "stderr",
     "output_type": "stream",
     "text": [
      "/home/ab/.pyenv/versions/3.11.6/lib/python3.11/site-packages/huggingface_hub/file_download.py:1132: FutureWarning: `resume_download` is deprecated and will be removed in version 1.0.0. Downloads always resume when possible. If you want to force a new download, use `force_download=True`.\n",
      "  warnings.warn(\n"
     ]
    },
    {
     "name": "stdout",
     "output_type": "stream",
     "text": [
      "2024-06-02 14:22:32 - Use pytorch device_name: cuda\n"
     ]
    }
   ],
   "source": [
    "#### Provide any sentence-transformers or HF model\n",
    "word_embedding_model = models.Transformer(model_name, max_seq_length=max_seq_length)\n",
    "pooling_model = models.Pooling(word_embedding_model.get_word_embedding_dimension())\n",
    "model = SentenceTransformer(modules=[word_embedding_model, pooling_model])\n",
    "\n",
    "#### Provide a high batch-size to train better with triplets!\n",
    "retriever = TrainRetriever(model=model, batch_size=12)"
   ]
  },
  {
   "cell_type": "code",
   "execution_count": 26,
   "metadata": {},
   "outputs": [
    {
     "name": "stderr",
     "output_type": "stream",
     "text": [
      "Adding Input Examples: 100%|██████████| 10081/10081 [00:00<00:00, 56787.88it/s]\n"
     ]
    },
    {
     "name": "stdout",
     "output_type": "stream",
     "text": [
      "2024-06-02 14:22:47 - Loaded 120965 training pairs.\n"
     ]
    }
   ],
   "source": [
    "\n",
    "#### Prepare triplets samples\n",
    "train_samples = retriever.load_train_triplets(triplets=triplets)\n",
    "train_dataloader = retriever.prepare_train_triplets(train_samples)\n",
    "\n",
    "#### Training SBERT with cosine-product\n",
    "train_loss = losses.MultipleNegativesRankingLoss(model=retriever.model)\n",
    "\n",
    "#### Prepare dev evaluator\n",
    "# ir_evaluator = retriever.load_ir_evaluator(dev_corpus, dev_queries, dev_qrels)\n",
    "\n",
    "#### If no dev set is present from above use dummy evaluator\n",
    "ir_evaluator = retriever.load_dummy_evaluator()\n",
    "\n",
    "#### Provide model save path\n",
    "model_save_path = os.path.join(os.getcwd(), \"../output\", \"{}-v2-{}-bm25-hard-negs\".format(model_name, dataset))\n",
    "os.makedirs(model_save_path, exist_ok=True)\n"
   ]
  },
  {
   "cell_type": "code",
   "execution_count": 27,
   "metadata": {},
   "outputs": [
    {
     "name": "stdout",
     "output_type": "stream",
     "text": [
      "2024-06-02 14:22:51 - Starting to Train...\n"
     ]
    },
    {
     "name": "stderr",
     "output_type": "stream",
     "text": [
      "/home/ab/.pyenv/versions/3.11.6/lib/python3.11/site-packages/transformers/optimization.py:588: FutureWarning: This implementation of AdamW is deprecated and will be removed in a future version. Use the PyTorch implementation torch.optim.AdamW instead, or set `no_deprecation_warning=True` to disable this warning\n",
      "  warnings.warn(\n"
     ]
    },
    {
     "data": {
      "text/html": [
       "\n",
       "    <div>\n",
       "      \n",
       "      <progress value='35001' max='100800' style='width:300px; height:20px; vertical-align: middle;'></progress>\n",
       "      [ 35001/100800 1:29:07 < 2:47:33, 6.54 it/s, Epoch 3.47/10]\n",
       "    </div>\n",
       "    <table border=\"1\" class=\"dataframe\">\n",
       "  <thead>\n",
       " <tr style=\"text-align: left;\">\n",
       "      <th>Step</th>\n",
       "      <th>Training Loss</th>\n",
       "      <th>Validation Loss</th>\n",
       "      <th>Sequential Score</th>\n",
       "    </tr>\n",
       "  </thead>\n",
       "  <tbody>\n",
       "    <tr>\n",
       "      <td>5000</td>\n",
       "      <td>0.118300</td>\n",
       "      <td>No log</td>\n",
       "      <td>1717364138.819354</td>\n",
       "    </tr>\n",
       "    <tr>\n",
       "      <td>10000</td>\n",
       "      <td>0.055100</td>\n",
       "      <td>No log</td>\n",
       "      <td>1717364900.493634</td>\n",
       "    </tr>\n",
       "    <tr>\n",
       "      <td>10080</td>\n",
       "      <td>0.055100</td>\n",
       "      <td>No log</td>\n",
       "      <td>1717364916.612670</td>\n",
       "    </tr>\n",
       "    <tr>\n",
       "      <td>15000</td>\n",
       "      <td>0.022000</td>\n",
       "      <td>No log</td>\n",
       "      <td>1717365665.962539</td>\n",
       "    </tr>\n",
       "    <tr>\n",
       "      <td>20000</td>\n",
       "      <td>0.013600</td>\n",
       "      <td>No log</td>\n",
       "      <td>1717366427.345196</td>\n",
       "    </tr>\n",
       "    <tr>\n",
       "      <td>20160</td>\n",
       "      <td>0.013600</td>\n",
       "      <td>No log</td>\n",
       "      <td>1717366455.142648</td>\n",
       "    </tr>\n",
       "    <tr>\n",
       "      <td>25000</td>\n",
       "      <td>0.009100</td>\n",
       "      <td>No log</td>\n",
       "      <td>1717367190.911790</td>\n",
       "    </tr>\n",
       "    <tr>\n",
       "      <td>30000</td>\n",
       "      <td>0.007500</td>\n",
       "      <td>No log</td>\n",
       "      <td>1717367955.457952</td>\n",
       "    </tr>\n",
       "    <tr>\n",
       "      <td>30240</td>\n",
       "      <td>0.007500</td>\n",
       "      <td>No log</td>\n",
       "      <td>1717367996.056918</td>\n",
       "    </tr>\n",
       "    <tr>\n",
       "      <td>35000</td>\n",
       "      <td>0.005300</td>\n",
       "      <td>No log</td>\n",
       "      <td>1717368727.613854</td>\n",
       "    </tr>\n",
       "  </tbody>\n",
       "</table><p>"
      ],
      "text/plain": [
       "<IPython.core.display.HTML object>"
      ]
     },
     "metadata": {},
     "output_type": "display_data"
    },
    {
     "name": "stdout",
     "output_type": "stream",
     "text": [
      "2024-06-02 14:35:38 - Save model to /mnt/c/D_drive/UCSD/Quarters/Q3/DSC253-Adv_txt_mining/Project/slm4search/src/../output/distilbert-base-uncased-v2-msmarco_tiny-bm25-hard-negs\n"
     ]
    },
    {
     "name": "stderr",
     "output_type": "stream",
     "text": [
      "                                                                             \r"
     ]
    },
    {
     "name": "stdout",
     "output_type": "stream",
     "text": [
      "2024-06-02 14:48:20 - Save model to /mnt/c/D_drive/UCSD/Quarters/Q3/DSC253-Adv_txt_mining/Project/slm4search/src/../output/distilbert-base-uncased-v2-msmarco_tiny-bm25-hard-negs\n"
     ]
    },
    {
     "name": "stderr",
     "output_type": "stream",
     "text": [
      "                                                                             \r"
     ]
    },
    {
     "name": "stdout",
     "output_type": "stream",
     "text": [
      "2024-06-02 14:48:36 - Save model to /mnt/c/D_drive/UCSD/Quarters/Q3/DSC253-Adv_txt_mining/Project/slm4search/src/../output/distilbert-base-uncased-v2-msmarco_tiny-bm25-hard-negs\n"
     ]
    },
    {
     "name": "stderr",
     "output_type": "stream",
     "text": [
      "                                                                             \r"
     ]
    },
    {
     "name": "stdout",
     "output_type": "stream",
     "text": [
      "2024-06-02 15:01:05 - Save model to /mnt/c/D_drive/UCSD/Quarters/Q3/DSC253-Adv_txt_mining/Project/slm4search/src/../output/distilbert-base-uncased-v2-msmarco_tiny-bm25-hard-negs\n"
     ]
    },
    {
     "name": "stderr",
     "output_type": "stream",
     "text": [
      "                                                                             \r"
     ]
    },
    {
     "name": "stdout",
     "output_type": "stream",
     "text": [
      "2024-06-02 15:13:47 - Save model to /mnt/c/D_drive/UCSD/Quarters/Q3/DSC253-Adv_txt_mining/Project/slm4search/src/../output/distilbert-base-uncased-v2-msmarco_tiny-bm25-hard-negs\n"
     ]
    },
    {
     "name": "stderr",
     "output_type": "stream",
     "text": [
      "                                                                             \r"
     ]
    },
    {
     "name": "stdout",
     "output_type": "stream",
     "text": [
      "2024-06-02 15:14:15 - Save model to /mnt/c/D_drive/UCSD/Quarters/Q3/DSC253-Adv_txt_mining/Project/slm4search/src/../output/distilbert-base-uncased-v2-msmarco_tiny-bm25-hard-negs\n"
     ]
    },
    {
     "name": "stderr",
     "output_type": "stream",
     "text": [
      "                                                                             \r"
     ]
    },
    {
     "name": "stdout",
     "output_type": "stream",
     "text": [
      "2024-06-02 15:26:30 - Save model to /mnt/c/D_drive/UCSD/Quarters/Q3/DSC253-Adv_txt_mining/Project/slm4search/src/../output/distilbert-base-uncased-v2-msmarco_tiny-bm25-hard-negs\n"
     ]
    },
    {
     "name": "stderr",
     "output_type": "stream",
     "text": [
      "                                                                             \r"
     ]
    },
    {
     "name": "stdout",
     "output_type": "stream",
     "text": [
      "2024-06-02 15:39:15 - Save model to /mnt/c/D_drive/UCSD/Quarters/Q3/DSC253-Adv_txt_mining/Project/slm4search/src/../output/distilbert-base-uncased-v2-msmarco_tiny-bm25-hard-negs\n"
     ]
    },
    {
     "name": "stderr",
     "output_type": "stream",
     "text": [
      "                                                                             \r"
     ]
    },
    {
     "name": "stdout",
     "output_type": "stream",
     "text": [
      "2024-06-02 15:39:56 - Save model to /mnt/c/D_drive/UCSD/Quarters/Q3/DSC253-Adv_txt_mining/Project/slm4search/src/../output/distilbert-base-uncased-v2-msmarco_tiny-bm25-hard-negs\n"
     ]
    },
    {
     "name": "stderr",
     "output_type": "stream",
     "text": [
      "                                                                             \r"
     ]
    },
    {
     "name": "stdout",
     "output_type": "stream",
     "text": [
      "2024-06-02 15:52:07 - Save model to /mnt/c/D_drive/UCSD/Quarters/Q3/DSC253-Adv_txt_mining/Project/slm4search/src/../output/distilbert-base-uncased-v2-msmarco_tiny-bm25-hard-negs\n"
     ]
    },
    {
     "ename": "",
     "evalue": "",
     "output_type": "error",
     "traceback": [
      "\u001b[1;31mThe Kernel crashed while executing code in the current cell or a previous cell. \n",
      "\u001b[1;31mPlease review the code in the cell(s) to identify a possible cause of the failure. \n",
      "\u001b[1;31mClick <a href='https://aka.ms/vscodeJupyterKernelCrash'>here</a> for more info. \n",
      "\u001b[1;31mView Jupyter <a href='command:jupyter.viewOutput'>log</a> for further details."
     ]
    }
   ],
   "source": [
    "#### Configure Train params\n",
    "num_epochs = 10\n",
    "evaluation_steps = 5000\n",
    "warmup_steps = int(len(train_samples) * num_epochs / retriever.batch_size * 0.1)\n",
    "\n",
    "retriever.fit(train_objectives=[(train_dataloader, train_loss)], \n",
    "                evaluator=ir_evaluator, \n",
    "                epochs=num_epochs,\n",
    "                output_path=model_save_path,\n",
    "                warmup_steps=warmup_steps,\n",
    "                evaluation_steps=evaluation_steps,\n",
    "                use_amp=True)\n"
   ]
  },
  {
   "cell_type": "code",
   "execution_count": null,
   "metadata": {},
   "outputs": [],
   "source": []
  },
  {
   "cell_type": "markdown",
   "metadata": {},
   "source": [
    "# Evaluate"
   ]
  },
  {
   "cell_type": "code",
   "execution_count": 9,
   "metadata": {},
   "outputs": [
    {
     "name": "stdout",
     "output_type": "stream",
     "text": [
      "2024-05-29 03:12:57 - Loading Corpus...\n"
     ]
    },
    {
     "name": "stderr",
     "output_type": "stream",
     "text": [
      "100%|██████████| 5183/5183 [00:00<00:00, 17583.97it/s]\n"
     ]
    },
    {
     "name": "stdout",
     "output_type": "stream",
     "text": [
      "2024-05-29 03:12:58 - Loaded 5183 TEST Documents.\n",
      "2024-05-29 03:12:58 - Doc Example: {'text': 'Alterations of the architecture of cerebral white matter in the developing human brain can affect cortical development and result in functional disabilities. A line scan diffusion-weighted magnetic resonance imaging (MRI) sequence with diffusion tensor analysis was applied to measure the apparent diffusion coefficient, to calculate relative anisotropy, and to delineate three-dimensional fiber architecture in cerebral white matter in preterm (n = 17) and full-term infants (n = 7). To assess effects of prematurity on cerebral white matter development, early gestation preterm infants (n = 10) were studied a second time at term. In the central white matter the mean apparent diffusion coefficient at 28 wk was high, 1.8 microm2/ms, and decreased toward term to 1.2 microm2/ms. In the posterior limb of the internal capsule, the mean apparent diffusion coefficients at both times were similar (1.2 versus 1.1 microm2/ms). Relative anisotropy was higher the closer birth was to term with greater absolute values in the internal capsule than in the central white matter. Preterm infants at term showed higher mean diffusion coefficients in the central white matter (1.4 +/- 0.24 versus 1.15 +/- 0.09 microm2/ms, p = 0.016) and lower relative anisotropy in both areas compared with full-term infants (white matter, 10.9 +/- 0.6 versus 22.9 +/- 3.0%, p = 0.001; internal capsule, 24.0 +/- 4.44 versus 33.1 +/- 0.6% p = 0.006). Nonmyelinated fibers in the corpus callosum were visible by diffusion tensor MRI as early as 28 wk; full-term and preterm infants at term showed marked differences in white matter fiber organization. The data indicate that quantitative assessment of water diffusion by diffusion tensor MRI provides insight into microstructural development in cerebral white matter in living infants.', 'title': 'Microstructural development of human newborn cerebral white matter assessed in vivo by diffusion tensor magnetic resonance imaging.'}\n",
      "2024-05-29 03:12:58 - Loading Queries...\n",
      "2024-05-29 03:12:58 - Loaded 300 TEST Queries.\n",
      "2024-05-29 03:12:58 - Query Example: 0-dimensional biomaterials show inductive properties.\n"
     ]
    }
   ],
   "source": [
    "# Loading test set\n",
    "corpus, queries, qrels = GenericDataLoader(data_path).load(split=\"test\")"
   ]
  },
  {
   "cell_type": "code",
   "execution_count": 10,
   "metadata": {},
   "outputs": [
    {
     "name": "stdout",
     "output_type": "stream",
     "text": [
      "2024-05-29 03:13:01 - Loading faiss with AVX2 support.\n",
      "2024-05-29 03:13:02 - Successfully loaded faiss with AVX2 support.\n",
      "2024-05-29 03:13:02 - Use pytorch device_name: cuda\n",
      "2024-05-29 03:13:02 - Load pretrained SentenceTransformer: /mnt/c/D_drive/UCSD/Quarters/Q3/DSC253-Adv_txt_mining/Project/slm4search/src/../output/distilbert-base-uncased-v2-scifact-bm25-hard-negs\n",
      "2024-05-29 03:13:09 - Encoding Queries...\n"
     ]
    },
    {
     "name": "stderr",
     "output_type": "stream",
     "text": [
      "Batches: 100%|██████████| 3/3 [00:00<00:00,  3.91it/s]\n"
     ]
    },
    {
     "name": "stdout",
     "output_type": "stream",
     "text": [
      "2024-05-29 03:13:10 - Sorting Corpus by document length (Longest first)...\n",
      "2024-05-29 03:13:10 - Encoding Corpus in batches... Warning: This might take a while!\n",
      "2024-05-29 03:13:10 - Scoring Function: Cosine Similarity (cos_sim)\n",
      "2024-05-29 03:13:10 - Encoding Batch 1/1...\n"
     ]
    },
    {
     "name": "stderr",
     "output_type": "stream",
     "text": [
      "Batches: 100%|██████████| 41/41 [00:36<00:00,  1.14it/s]\n"
     ]
    }
   ],
   "source": [
    "from beir.retrieval.evaluation import EvaluateRetrieval\n",
    "from beir.retrieval import models\n",
    "from beir.retrieval.search.dense import DenseRetrievalExactSearch as DRES\n",
    "\n",
    "## Load retriever from saved model\n",
    "\n",
    "model = DRES(models.SentenceBERT(model_save_path), batch_size=128)\n",
    "retriever = EvaluateRetrieval(model, score_function=\"cos_sim\")\n",
    "\n",
    "#### Retrieve dense results (format of results is identical to qrels)\n",
    "results = retriever.retrieve(corpus, queries)"
   ]
  },
  {
   "cell_type": "code",
   "execution_count": 11,
   "metadata": {},
   "outputs": [
    {
     "name": "stdout",
     "output_type": "stream",
     "text": [
      "2024-05-29 03:13:46 - Retriever evaluation for k in: [1, 3, 5, 10, 100, 1000]\n",
      "2024-05-29 03:13:46 - For evaluation, we ignore identical query and document ids (default), please explicitly set ``ignore_identical_ids=False`` to ignore this.\n",
      "2024-05-29 03:13:46 - \n",
      "\n",
      "2024-05-29 03:13:46 - NDCG@1: 0.6767\n",
      "2024-05-29 03:13:46 - NDCG@3: 0.7256\n",
      "2024-05-29 03:13:46 - NDCG@5: 0.7348\n",
      "2024-05-29 03:13:46 - NDCG@10: 0.7430\n",
      "2024-05-29 03:13:46 - NDCG@100: 0.7634\n",
      "2024-05-29 03:13:46 - NDCG@1000: 0.7725\n",
      "2024-05-29 03:13:46 - \n",
      "\n",
      "2024-05-29 03:13:46 - MAP@1: 0.6409\n",
      "2024-05-29 03:13:46 - MAP@3: 0.7052\n",
      "2024-05-29 03:13:46 - MAP@5: 0.7131\n",
      "2024-05-29 03:13:46 - MAP@10: 0.7168\n",
      "2024-05-29 03:13:46 - MAP@100: 0.7207\n",
      "2024-05-29 03:13:46 - MAP@1000: 0.7210\n",
      "2024-05-29 03:13:46 - \n",
      "\n",
      "2024-05-29 03:13:46 - Recall@1: 0.6409\n",
      "2024-05-29 03:13:46 - Recall@3: 0.7594\n",
      "2024-05-29 03:13:46 - Recall@5: 0.7855\n",
      "2024-05-29 03:13:46 - Recall@10: 0.8089\n",
      "2024-05-29 03:13:46 - Recall@100: 0.9061\n",
      "2024-05-29 03:13:46 - Recall@1000: 0.9782\n",
      "2024-05-29 03:13:46 - \n",
      "\n",
      "2024-05-29 03:13:46 - P@1: 0.6767\n",
      "2024-05-29 03:13:46 - P@3: 0.2767\n",
      "2024-05-29 03:13:46 - P@5: 0.1727\n",
      "2024-05-29 03:13:46 - P@10: 0.0893\n",
      "2024-05-29 03:13:46 - P@100: 0.0101\n",
      "2024-05-29 03:13:46 - P@1000: 0.0011\n"
     ]
    },
    {
     "data": {
      "text/plain": [
       "({'NDCG@1': 0.67667,\n",
       "  'NDCG@3': 0.72557,\n",
       "  'NDCG@5': 0.73475,\n",
       "  'NDCG@10': 0.74305,\n",
       "  'NDCG@100': 0.76343,\n",
       "  'NDCG@1000': 0.77253},\n",
       " {'MAP@1': 0.64094,\n",
       "  'MAP@3': 0.70522,\n",
       "  'MAP@5': 0.71306,\n",
       "  'MAP@10': 0.71684,\n",
       "  'MAP@100': 0.72071,\n",
       "  'MAP@1000': 0.72102},\n",
       " {'Recall@1': 0.64094,\n",
       "  'Recall@3': 0.75939,\n",
       "  'Recall@5': 0.7855,\n",
       "  'Recall@10': 0.80894,\n",
       "  'Recall@100': 0.90611,\n",
       "  'Recall@1000': 0.97822},\n",
       " {'P@1': 0.67667,\n",
       "  'P@3': 0.27667,\n",
       "  'P@5': 0.17267,\n",
       "  'P@10': 0.08933,\n",
       "  'P@100': 0.01013,\n",
       "  'P@1000': 0.0011})"
      ]
     },
     "execution_count": 11,
     "metadata": {},
     "output_type": "execute_result"
    }
   ],
   "source": [
    "#### Evaluate your retrieval using NDCG@k, MAP@K ...\n",
    "logging.info(\"Retriever evaluation for k in: {}\".format(retriever.k_values))\n",
    "ndcg, _map, recall, precision = retriever.evaluate(qrels, results, retriever.k_values)\n",
    "ndcg, _map, recall, precision"
   ]
  },
  {
   "cell_type": "code",
   "execution_count": null,
   "metadata": {},
   "outputs": [],
   "source": []
  }
 ],
 "metadata": {
  "kernelspec": {
   "display_name": "Python 3",
   "language": "python",
   "name": "python3"
  },
  "language_info": {
   "codemirror_mode": {
    "name": "ipython",
    "version": 3
   },
   "file_extension": ".py",
   "mimetype": "text/x-python",
   "name": "python",
   "nbconvert_exporter": "python",
   "pygments_lexer": "ipython3",
   "version": "3.11.6"
  }
 },
 "nbformat": 4,
 "nbformat_minor": 2
}
