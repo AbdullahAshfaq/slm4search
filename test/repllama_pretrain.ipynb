{
 "cells": [
  {
   "cell_type": "code",
   "execution_count": 7,
   "metadata": {},
   "outputs": [],
   "source": [
    "import os"
   ]
  },
  {
   "cell_type": "code",
   "execution_count": 1,
   "metadata": {},
   "outputs": [
    {
     "name": "stderr",
     "output_type": "stream",
     "text": [
      "/home/ab/.pyenv/versions/3.11.6/lib/python3.11/site-packages/beir/util.py:2: TqdmWarning: IProgress not found. Please update jupyter and ipywidgets. See https://ipywidgets.readthedocs.io/en/stable/user_install.html\n",
      "  from tqdm.autonotebook import tqdm\n"
     ]
    }
   ],
   "source": [
    "from beir import util, LoggingHandler\n",
    "from beir.datasets.data_loader import GenericDataLoader"
   ]
  },
  {
   "cell_type": "code",
   "execution_count": 2,
   "metadata": {},
   "outputs": [
    {
     "name": "stderr",
     "output_type": "stream",
     "text": [
      "100%|██████████| 5183/5183 [00:00<00:00, 17430.22it/s]\n"
     ]
    }
   ],
   "source": [
    "dataset = \"scifact\"\n",
    "data_path = f\"../datasets/{dataset}\"\n",
    "\n",
    "# Loading test set\n",
    "corpus, queries, qrels = GenericDataLoader(data_path).load(split=\"test\")"
   ]
  },
  {
   "cell_type": "code",
   "execution_count": 3,
   "metadata": {},
   "outputs": [
    {
     "data": {
      "text/plain": [
       "{'16322674': 1, '27123743': 1, '23557241': 1, '17450673': 1}"
      ]
     },
     "execution_count": 3,
     "metadata": {},
     "output_type": "execute_result"
    }
   ],
   "source": [
    "qrels['179']"
   ]
  },
  {
   "cell_type": "code",
   "execution_count": 4,
   "metadata": {},
   "outputs": [],
   "source": [
    "import torch\n",
    "from transformers import AutoModel, AutoTokenizer\n",
    "from peft import PeftModel, PeftConfig"
   ]
  },
  {
   "cell_type": "code",
   "execution_count": 9,
   "metadata": {},
   "outputs": [
    {
     "name": "stderr",
     "output_type": "stream",
     "text": [
      "Downloading shards: 100%|██████████| 2/2 [04:44<00:00, 142.35s/it]\n",
      "Loading checkpoint shards:   0%|          | 0/2 [00:00<?, ?it/s]"
     ]
    },
    {
     "ename": "",
     "evalue": "",
     "output_type": "error",
     "traceback": [
      "\u001b[1;31mThe Kernel crashed while executing code in the current cell or a previous cell. \n",
      "\u001b[1;31mPlease review the code in the cell(s) to identify a possible cause of the failure. \n",
      "\u001b[1;31mClick <a href='https://aka.ms/vscodeJupyterKernelCrash'>here</a> for more info. \n",
      "\u001b[1;31mView Jupyter <a href='command:jupyter.viewOutput'>log</a> for further details."
     ]
    }
   ],
   "source": [
    "\n",
    "def get_model(peft_model_name):\n",
    "    config = PeftConfig.from_pretrained(peft_model_name)\n",
    "    base_model = AutoModel.from_pretrained(config.base_model_name_or_path)\n",
    "    model = PeftModel.from_pretrained(base_model, peft_model_name)\n",
    "    model = model.merge_and_unload()\n",
    "    model.eval()\n",
    "    return model\n",
    "\n",
    "# Load the tokenizer and model\n",
    "tokenizer = AutoTokenizer.from_pretrained('meta-llama/Llama-2-7b-hf')\n",
    "model = get_model('castorini/repllama-v1-7b-lora-passage')\n",
    "\n",
    "# Define query and passage inputs\n",
    "query = \"What is llama?\"\n",
    "title = \"Llama\"\n",
    "passage = \"The llama is a domesticated South American camelid, widely used as a meat and pack animal by Andean cultures since the pre-Columbian era.\"\n",
    "query_input = tokenizer(f'query: {query}</s>', return_tensors='pt')\n",
    "passage_input = tokenizer(f'passage: {title} {passage}</s>', return_tensors='pt')\n"
   ]
  },
  {
   "cell_type": "code",
   "execution_count": null,
   "metadata": {},
   "outputs": [],
   "source": [
    "def get_embed(model, input):\n",
    "    with torch.no_grad():\n",
    "        # compute query embedding\n",
    "        outputs = model(**input)\n",
    "        embedding = outputs.last_hidden_state[0][-1]\n",
    "        embedding = torch.nn.functional.normalize(embedding, p=2, dim=0)\n",
    "    return embedding"
   ]
  },
  {
   "cell_type": "code",
   "execution_count": null,
   "metadata": {},
   "outputs": [],
   "source": [
    "import tqdm\n",
    "\n",
    "query_embeddings = {}\n",
    "doc_embeddings = {}\n",
    "\n",
    "print(\"Encoding queries ...\")\n",
    "for k,q in tqdm(queries):\n",
    "    query_embed = get_embed(model, q)\n",
    "    query_embeddings[k] = query_embed\n",
    "\n",
    "print(\"Encoding passages ...\")\n",
    "for k,q in tqdm(corpus):\n",
    "    doc_embed = get_embed(model, q)\n",
    "    doc_embeddings[k] = doc_embed\n"
   ]
  },
  {
   "cell_type": "code",
   "execution_count": null,
   "metadata": {},
   "outputs": [],
   "source": [
    "\n",
    "# Run the model forward to compute embeddings and query-passage similarity score\n",
    "with torch.no_grad():\n",
    "    # compute query embedding\n",
    "    query_outputs = model(**query_input)\n",
    "    query_embedding = query_outputs.last_hidden_state[0][-1]\n",
    "    query_embedding = torch.nn.functional.normalize(query_embedding, p=2, dim=0)\n",
    "\n",
    "    # compute passage embedding\n",
    "    passage_outputs = model(**passage_input)\n",
    "    passage_embeddings = passage_outputs.last_hidden_state[0][-1]\n",
    "    passage_embeddings = torch.nn.functional.normalize(passage_embeddings, p=2, dim=0)\n",
    "\n",
    "    # compute similarity score\n",
    "    score = torch.dot(query_embedding, passage_embeddings)\n",
    "    print(score)"
   ]
  },
  {
   "cell_type": "code",
   "execution_count": null,
   "metadata": {},
   "outputs": [],
   "source": []
  }
 ],
 "metadata": {
  "kernelspec": {
   "display_name": "Python 3",
   "language": "python",
   "name": "python3"
  },
  "language_info": {
   "codemirror_mode": {
    "name": "ipython",
    "version": 3
   },
   "file_extension": ".py",
   "mimetype": "text/x-python",
   "name": "python",
   "nbconvert_exporter": "python",
   "pygments_lexer": "ipython3",
   "version": "3.11.6"
  }
 },
 "nbformat": 4,
 "nbformat_minor": 2
}
